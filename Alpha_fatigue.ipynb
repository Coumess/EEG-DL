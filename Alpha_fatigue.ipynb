{
 "cells": [
  {
   "cell_type": "code",
   "execution_count": 1,
   "id": "13086d7a-5133-41b1-9b59-201c24cfffdf",
   "metadata": {},
   "outputs": [
    {
     "name": "stderr",
     "output_type": "stream",
     "text": [
      "C:\\Users\\alexc\\anaconda3\\Lib\\site-packages\\paramiko\\transport.py:219: CryptographyDeprecationWarning: Blowfish has been deprecated and will be removed in a future release\n",
      "  \"class\": algorithms.Blowfish,\n"
     ]
    }
   ],
   "source": [
    "from alphawaves.dataset import AlphaWaves\n",
    "import matplotlib.pyplot as plt\n",
    "import pandas as pd\n",
    "import numpy as np\n",
    "import mne\n",
    "from pathlib import Path"
   ]
  },
  {
   "cell_type": "code",
   "execution_count": 2,
   "id": "5183dcc1-2017-4149-8423-a044f4381288",
   "metadata": {},
   "outputs": [],
   "source": [
    "# Le dataset\n",
    "dataset = AlphaWaves()"
   ]
  },
  {
   "cell_type": "code",
   "execution_count": 17,
   "id": "db8b6941-2d7f-409b-80ac-f3114cd82131",
   "metadata": {},
   "outputs": [
    {
     "name": "stdout",
     "output_type": "stream",
     "text": [
      "    Subject  IsMan  Age  Fatigue\n",
      "0         1      1   27        5\n",
      "1         2      1   23        0\n",
      "2         3      1   44        2\n",
      "3         4      1   26        2\n",
      "4         5      1   26        4\n",
      "5         6      1   26        7\n",
      "6         7      1   25        1\n",
      "7         8      1   19        7\n",
      "8         9      1   19        2\n",
      "9        10      0   26        0\n",
      "10       11      0   25        2\n",
      "11       12      1   22        0\n",
      "12       13      1   22        5\n",
      "13       14      1   33        4\n",
      "14       15      1   24        1\n",
      "15       16      0   25        4\n",
      "16       17      0   26        1\n",
      "17       18      0   28        3\n",
      "18       19      0   24        6\n",
      "19       20      0   26        2\n"
     ]
    }
   ],
   "source": [
    "# Charger demographics directement\n",
    "demoh = pd.read_csv(\"demographic_header.csv\", sep=\",\", header=None)\n",
    "headers = demoh.iloc[0].tolist()  # transforme la ligne en liste\n",
    "demog = pd.read_csv(\"demographic.csv\", sep=\",\", header=None)\n",
    "demog.columns = headers\n",
    "print(demog)"
   ]
  },
  {
   "cell_type": "code",
   "execution_count": null,
   "id": "5dffef45-969a-4ff1-8911-6e93994e6c64",
   "metadata": {},
   "outputs": [],
   "source": []
  }
 ],
 "metadata": {
  "kernelspec": {
   "display_name": "Python 3 (ipykernel)",
   "language": "python",
   "name": "python3"
  },
  "language_info": {
   "codemirror_mode": {
    "name": "ipython",
    "version": 3
   },
   "file_extension": ".py",
   "mimetype": "text/x-python",
   "name": "python",
   "nbconvert_exporter": "python",
   "pygments_lexer": "ipython3",
   "version": "3.11.7"
  }
 },
 "nbformat": 4,
 "nbformat_minor": 5
}
